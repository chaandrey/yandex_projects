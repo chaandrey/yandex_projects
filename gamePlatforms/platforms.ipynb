{
 "cells": [
  {
   "cell_type": "markdown",
   "metadata": {},
   "source": [
    "<h1> Integrated Project </h1>"
   ]
  },
  {
   "cell_type": "markdown",
   "metadata": {},
   "source": [
    "<h3> Integrated Project </h3>"
   ]
  },
  {
   "cell_type": "markdown",
   "metadata": {},
   "source": [
    "\n",
    "<h2>Contents</h2>"
   ]
  },
  {
   "cell_type": "markdown",
   "metadata": {},
   "source": [
    "[<font size=\"+1\">Step 1 Open the data file and study the general information</font>](#Step_1)\n",
    "\n",
    "[Step 1.1 Head of table](#Step_1.1)\n",
    "\n",
    "[Step 1.2 Null Values](#Step_1.2)\n",
    "\n",
    "[Step 1.3 Null values for user, critic and rating](#Step_1.3)\n",
    "\n",
    "[Step 1.4 Duplicated values](#Step_1.4)\n",
    "\n",
    "[Step 1.5 Conclusion](#Step_1.5)\n",
    "    \n",
    "[<font size=\"+1\">Step 2 Prepare the data</font>](#Step_2) \n",
    "\n",
    "[Step 2.1 Column names to lowercase](#Step_2.1)    \n",
    "\n",
    "[Step 2.2 Missing values](#Step_2.2)   \n",
    "\n",
    "[Step 2.3 Convert data type](#Step_2.3)  \n",
    "\n",
    "[Step 2.4 Calculate total sales](#Step_2.4)  \n",
    "\n",
    "[Step 2.5 Conclusion](#Step_2.5) \n",
    "\n",
    "\n",
    "[<font size=\"+1\">Step 3. Analyze the data</font>](#Step_3) \n",
    "\n",
    "[Step 3.1 Number of released games per year](#Step_3.1)\n",
    "\n",
    "[Step 3.2 Sales per platform](#Step_3.2)\n",
    "\n",
    "[Step 3.2.1 Greatest total sales](#Step_3.2.1)\n",
    "\n",
    "[Step 3.2.2 Distribution based on data for each year](#Step_3.2.2)\n",
    "\n",
    "[Step 3.3 Determine period for prognosis](#Step_3.3)\n",
    "\n",
    "[Step 3.4 Leading platforms](#Step_3.4)\n",
    "\n",
    "[Step 3.4.1 Leading platforms by year](#Step_3.4.1)\n",
    "\n",
    "[Step 3.4.2 Boxplot for leadind platforms](#Step_3.4.2)\n",
    "\n",
    "[Step 3.5 Effect of professional reviews on sales](#Step_3.5)\n",
    "\n",
    "[Step 3.6 Sales of the same games on other platforms](#Step_3.6)\n",
    "\n",
    "[Step 3.7 Distribution of games by genre](#Step_3.7)\n",
    "\n",
    "[Step 3.8 Conclusion](#Step_3.8)\n",
    "\n",
    "[<font size=\"+1\">Step 4. User profile for each region</font>](#Step_4) \n",
    "\n",
    "[Step 4.1 Top five platforms](#Step_4.1)\n",
    "\n",
    "[Step 4.2 Top five genres](#Step_4.2)\n",
    "\n",
    "[Step 4.3 Conclusion](#Step_4.3)\n",
    "\n",
    "\n",
    "[<font size=\"+1\">Step 5. Test hypotheses</font>](#Step_5) \n",
    "\n",
    "[Step 5.1 User's ratings of the Xbox One and PC](#Step_5.1)\n",
    "\n",
    "[Step 5.2 User's ratings for the Action and Sport genres](#Step_5.2)\n",
    "\n",
    "[<font size=\"+1\">Step 6. General conclusion</font>](#Step_6) "
   ]
  },
  {
   "cell_type": "markdown",
   "metadata": {},
   "source": [
    "<a id='Step_1'></a>"
   ]
  },
  {
   "cell_type": "markdown",
   "metadata": {},
   "source": [
    "<h3>Step 1. Open the data file and study the general information</h3>"
   ]
  },
  {
   "cell_type": "markdown",
   "metadata": {},
   "source": [
    "<a id='Step_1.1'></a>"
   ]
  },
  {
   "cell_type": "markdown",
   "metadata": {},
   "source": [
    "<h3>1.1 Head of table </h3>"
   ]
  },
  {
   "cell_type": "code",
   "execution_count": 1,
   "metadata": {},
   "outputs": [],
   "source": [
    "import pandas as pd\n",
    "import matplotlib.pyplot as plt\n",
    "import numpy as np\n",
    "from scipy import stats as st\n",
    "\n",
    "try:\n",
    "    games = pd.read_csv(r'C:\\Users\\andreyc\\Desktop\\projects\\gamePlatforms\\games.csv')\n",
    "except:\n",
    "    print('issue during reading csv file')\n",
    "\n",
    "\n",
    "\n",
    "\n"
   ]
  },
  {
   "cell_type": "code",
   "execution_count": 2,
   "metadata": {},
   "outputs": [
    {
     "name": "stdout",
     "output_type": "stream",
     "text": [
      "                        Name Platform  Year_of_Release         Genre  \\\n",
      "0                 Wii Sports      Wii           2006.0        Sports   \n",
      "1          Super Mario Bros.      NES           1985.0      Platform   \n",
      "2             Mario Kart Wii      Wii           2008.0        Racing   \n",
      "3          Wii Sports Resort      Wii           2009.0        Sports   \n",
      "4   Pokemon Red/Pokemon Blue       GB           1996.0  Role-Playing   \n",
      "5                     Tetris       GB           1989.0        Puzzle   \n",
      "6      New Super Mario Bros.       DS           2006.0      Platform   \n",
      "7                   Wii Play      Wii           2006.0          Misc   \n",
      "8  New Super Mario Bros. Wii      Wii           2009.0      Platform   \n",
      "9                  Duck Hunt      NES           1984.0       Shooter   \n",
      "\n",
      "   NA_sales  EU_sales  JP_sales  Other_sales  Critic_Score User_Score Rating  \n",
      "0     41.36     28.96      3.77         8.45          76.0          8      E  \n",
      "1     29.08      3.58      6.81         0.77           NaN        NaN    NaN  \n",
      "2     15.68     12.76      3.79         3.29          82.0        8.3      E  \n",
      "3     15.61     10.93      3.28         2.95          80.0          8      E  \n",
      "4     11.27      8.89     10.22         1.00           NaN        NaN    NaN  \n",
      "5     23.20      2.26      4.22         0.58           NaN        NaN    NaN  \n",
      "6     11.28      9.14      6.50         2.88          89.0        8.5      E  \n",
      "7     13.96      9.18      2.93         2.84          58.0        6.6      E  \n",
      "8     14.44      6.94      4.70         2.24          87.0        8.4      E  \n",
      "9     26.93      0.63      0.28         0.47           NaN        NaN    NaN  \n"
     ]
    }
   ],
   "source": [
    "print(games.head(10))"
   ]
  },
  {
   "cell_type": "markdown",
   "metadata": {},
   "source": [
    "<h3>1.2 General information </h3>"
   ]
  },
  {
   "cell_type": "code",
   "execution_count": 3,
   "metadata": {},
   "outputs": [
    {
     "name": "stdout",
     "output_type": "stream",
     "text": [
      "<class 'pandas.core.frame.DataFrame'>\n",
      "RangeIndex: 16715 entries, 0 to 16714\n",
      "Data columns (total 11 columns):\n",
      "Name               16713 non-null object\n",
      "Platform           16715 non-null object\n",
      "Year_of_Release    16446 non-null float64\n",
      "Genre              16713 non-null object\n",
      "NA_sales           16715 non-null float64\n",
      "EU_sales           16715 non-null float64\n",
      "JP_sales           16715 non-null float64\n",
      "Other_sales        16715 non-null float64\n",
      "Critic_Score       8137 non-null float64\n",
      "User_Score         10014 non-null object\n",
      "Rating             9949 non-null object\n",
      "dtypes: float64(6), object(5)\n",
      "memory usage: 1.4+ MB\n",
      "None\n"
     ]
    }
   ],
   "source": [
    "print(games.info())"
   ]
  },
  {
   "cell_type": "markdown",
   "metadata": {},
   "source": [
    "<a id='Step_1.2'></a>"
   ]
  },
  {
   "cell_type": "markdown",
   "metadata": {},
   "source": [
    "<h3> 1.2 Null Values </h3>"
   ]
  },
  {
   "cell_type": "code",
   "execution_count": 3,
   "metadata": {},
   "outputs": [
    {
     "name": "stdout",
     "output_type": "stream",
     "text": [
      "        Null Values per column\n",
      "\n",
      "Name :\n",
      "2\n",
      "\n",
      "Platform :\n",
      "0\n",
      "\n",
      "Year_of_Release :\n",
      "269\n",
      "\n",
      "Genre :\n",
      "2\n",
      "\n",
      "NA_sales :\n",
      "0\n",
      "\n",
      "EU_sales :\n",
      "0\n",
      "\n",
      "JP_sales :\n",
      "0\n",
      "\n",
      "Other_sales :\n",
      "0\n",
      "\n",
      "Critic_Score :\n",
      "8578\n",
      "\n",
      "User_Score :\n",
      "6701\n",
      "\n",
      "Rating :\n",
      "6766\n",
      "\n"
     ]
    }
   ],
   "source": [
    "print('{:>30}'.format('Null Values per column'))\n",
    "print('')\n",
    "\n",
    "for column in games.columns:\n",
    "    print(column,':')\n",
    "    print(pd.isnull(games[column]).sum())\n",
    "    print('')"
   ]
  },
  {
   "cell_type": "markdown",
   "metadata": {},
   "source": [
    "<a id='Step_1.3'></a>"
   ]
  },
  {
   "cell_type": "markdown",
   "metadata": {},
   "source": [
    "<h3>1.3 Null values for user, critic and rating</h3>"
   ]
  },
  {
   "cell_type": "code",
   "execution_count": 5,
   "metadata": {},
   "outputs": [
    {
     "name": "stdout",
     "output_type": "stream",
     "text": [
      "Null values for user, critic and rating: \n"
     ]
    },
    {
     "data": {
      "text/plain": [
       "6619"
      ]
     },
     "execution_count": 5,
     "metadata": {},
     "output_type": "execute_result"
    }
   ],
   "source": [
    "print('Null values for user, critic and rating: ')\n",
    "\n",
    "games[(pd.isnull(games['Rating'])) & (pd.isnull(games['User_Score'])) & (pd.isnull(games['Critic_Score']))]['Name'].count()\n",
    "                                      \n",
    "                                      \n",
    "                                      \n",
    "                                      \n",
    "                                      \n",
    "                                      "
   ]
  },
  {
   "cell_type": "markdown",
   "metadata": {},
   "source": [
    "<a id='Step_1.4'></a>"
   ]
  },
  {
   "cell_type": "markdown",
   "metadata": {},
   "source": [
    "<h3>1.4 Duplicated values </h3>"
   ]
  },
  {
   "cell_type": "code",
   "execution_count": 6,
   "metadata": {},
   "outputs": [
    {
     "data": {
      "text/plain": [
       "0"
      ]
     },
     "execution_count": 6,
     "metadata": {},
     "output_type": "execute_result"
    }
   ],
   "source": [
    "games.duplicated().sum()"
   ]
  },
  {
   "cell_type": "markdown",
   "metadata": {},
   "source": [
    "<a id='Step_1.5'></a>"
   ]
  },
  {
   "cell_type": "markdown",
   "metadata": {},
   "source": [
    "<h3>1.5 Conclusion"
   ]
  },
  {
   "cell_type": "markdown",
   "metadata": {},
   "source": [
    "After first look, I noticed Null values in several columns and no duplicated rows.\n",
    "\n",
    "Also we can see some of columns have wrong type (such as year_of_release and critic_score)"
   ]
  },
  {
   "cell_type": "markdown",
   "metadata": {},
   "source": [
    "<a id='Step_2'></a>"
   ]
  },
  {
   "cell_type": "markdown",
   "metadata": {},
   "source": [
    "<h3>Step 2. Prepare the data</h3>"
   ]
  },
  {
   "cell_type": "markdown",
   "metadata": {},
   "source": [
    "<a id='Step_2.1'></a>"
   ]
  },
  {
   "cell_type": "markdown",
   "metadata": {},
   "source": [
    "<h3>2.1 Column names to lowercase</h3>"
   ]
  },
  {
   "cell_type": "code",
   "execution_count": 4,
   "metadata": {},
   "outputs": [],
   "source": [
    "games.columns = games.columns.str.lower()\n",
    "\n"
   ]
  },
  {
   "cell_type": "markdown",
   "metadata": {},
   "source": [
    "<a id='Step_2.2'></a>"
   ]
  },
  {
   "cell_type": "markdown",
   "metadata": {},
   "source": [
    "<h3>2.2 Missing values</h3>"
   ]
  },
  {
   "cell_type": "code",
   "execution_count": 6,
   "metadata": {},
   "outputs": [],
   "source": [
    "games.dropna(subset=['name', 'genre', 'year_of_release' ], inplace=True) \n",
    "\n",
    "for i in games:\n",
    "    games[i].fillna(0, inplace=True)\n",
    "\n",
    "#games['critic_score'].fillna(0, inplace=True)\n",
    "#games['user_score'].fillna(0, inplace=True)\n",
    "#games['rating'].fillna(0, inplace=True)\n",
    "\n",
    "\n"
   ]
  },
  {
   "cell_type": "markdown",
   "metadata": {},
   "source": [
    "<a id='Step_2.3'></a>"
   ]
  },
  {
   "cell_type": "markdown",
   "metadata": {},
   "source": [
    "<h3>2.3 Convert data type</h3>"
   ]
  },
  {
   "cell_type": "code",
   "execution_count": 7,
   "metadata": {},
   "outputs": [
    {
     "name": "stdout",
     "output_type": "stream",
     "text": [
      "<class 'pandas.core.frame.DataFrame'>\n",
      "Int64Index: 16444 entries, 0 to 16714\n",
      "Data columns (total 11 columns):\n",
      " #   Column           Non-Null Count  Dtype  \n",
      "---  ------           --------------  -----  \n",
      " 0   name             16444 non-null  object \n",
      " 1   platform         16444 non-null  object \n",
      " 2   year_of_release  16444 non-null  int32  \n",
      " 3   genre            16444 non-null  object \n",
      " 4   na_sales         16444 non-null  float64\n",
      " 5   eu_sales         16444 non-null  float64\n",
      " 6   jp_sales         16444 non-null  float64\n",
      " 7   other_sales      16444 non-null  float64\n",
      " 8   critic_score     16444 non-null  float64\n",
      " 9   user_score       16444 non-null  object \n",
      " 10  rating           16444 non-null  object \n",
      "dtypes: float64(5), int32(1), object(5)\n",
      "memory usage: 1.4+ MB\n"
     ]
    }
   ],
   "source": [
    "games['year_of_release'] = games['year_of_release'].astype('int')\n",
    "games['critic_score'] = games['critic_score'].astype('float')\n",
    "\n",
    "\n",
    "\n",
    "games.info()\n",
    "#print(games[games['user_score']=='tbd'])"
   ]
  },
  {
   "cell_type": "markdown",
   "metadata": {},
   "source": [
    "<a id='Step_2.4'></a>"
   ]
  },
  {
   "cell_type": "markdown",
   "metadata": {},
   "source": [
    "<h3>2.4 Calculate total sales</h3>"
   ]
  },
  {
   "cell_type": "code",
   "execution_count": 8,
   "metadata": {},
   "outputs": [
    {
     "name": "stdout",
     "output_type": "stream",
     "text": [
      "                       name platform  year_of_release         genre  na_sales  \\\n",
      "0                Wii Sports      Wii             2006        Sports     41.36   \n",
      "1         Super Mario Bros.      NES             1985      Platform     29.08   \n",
      "2            Mario Kart Wii      Wii             2008        Racing     15.68   \n",
      "3         Wii Sports Resort      Wii             2009        Sports     15.61   \n",
      "4  Pokemon Red/Pokemon Blue       GB             1996  Role-Playing     11.27   \n",
      "\n",
      "   eu_sales  jp_sales  other_sales  critic_score user_score rating  \\\n",
      "0     28.96      3.77         8.45          76.0          8      E   \n",
      "1      3.58      6.81         0.77           0.0          0      0   \n",
      "2     12.76      3.79         3.29          82.0        8.3      E   \n",
      "3     10.93      3.28         2.95          80.0          8      E   \n",
      "4      8.89     10.22         1.00           0.0          0      0   \n",
      "\n",
      "   total_sales  \n",
      "0        82.54  \n",
      "1        40.24  \n",
      "2        35.52  \n",
      "3        32.77  \n",
      "4        31.38  \n"
     ]
    }
   ],
   "source": [
    "games['total_sales'] = games['na_sales'] + games['eu_sales'] + games['jp_sales'] + games['other_sales']\n",
    "\n",
    "print(games.head())"
   ]
  },
  {
   "cell_type": "markdown",
   "metadata": {},
   "source": [
    "<a id='Step_2.5'></a>"
   ]
  },
  {
   "cell_type": "markdown",
   "metadata": {},
   "source": [
    "<h3>2.5 Conclusion "
   ]
  },
  {
   "cell_type": "markdown",
   "metadata": {},
   "source": [
    "During step 2 I have done following:\n",
    "    \n",
    "- Converted column names to lowercase.\n",
    "\n",
    "- Decided to replace missing values in columns critic_score, rating and user_score. The reason I did it is that I do not see any way to predict score or rating based on information that I already have.\n",
    "In addition, I think that conlusion will be more accurate if I will use only existing data and not replaced.\n",
    "\n",
    "- Converted data types critic_score and year_of_release to numeric.\n",
    "\n",
    "- Added additional column which is total sales based on na_sales, eu_sales, jp_sales and other_sales."
   ]
  },
  {
   "cell_type": "markdown",
   "metadata": {},
   "source": [
    "<a id='Step_3'></a>"
   ]
  },
  {
   "cell_type": "markdown",
   "metadata": {},
   "source": [
    "<h3>Step 3. Analyze the data</h3>"
   ]
  },
  {
   "cell_type": "markdown",
   "metadata": {},
   "source": [
    "<a id='Step_3.1'></a>"
   ]
  },
  {
   "cell_type": "markdown",
   "metadata": {},
   "source": [
    "<h3>3.1 Number of released games per year</h3>"
   ]
  },
  {
   "cell_type": "code",
   "execution_count": 9,
   "metadata": {},
   "outputs": [
    {
     "name": "stdout",
     "output_type": "stream",
     "text": [
      "1980-1990:  221\n",
      "1990-2000:  2103\n",
      "2000-2010:  10098\n",
      "2010-2016:  4022\n"
     ]
    },
    {
     "data": {
      "image/png": "[encoded data removed]",
      "text/plain": [
       "<Figure size 432x288 with 1 Axes>"
      ]
     },
     "metadata": {
      "needs_background": "light"
     },
     "output_type": "display_data"
    }
   ],
   "source": [
    "\n",
    "\n",
    "    \n",
    "print('1980-1990:',games.pivot_table(index='year_of_release', values='name', aggfunc=('count')).query('index <= 1990').sum().to_string(index=False))\n",
    "print('1990-2000:',games.pivot_table(index='year_of_release', values='name', aggfunc=('count')).query('index <= 2000 and index > 1990').sum().to_string(index=False))\n",
    "print('2000-2010:',games.pivot_table(index='year_of_release', values='name', aggfunc=('count')).query('index <= 2010 and index > 2000').sum().to_string(index=False))\n",
    "print('2010-2016:',games.pivot_table(index='year_of_release', values='name', aggfunc=('count')).query('index > 2010').sum().to_string(index=False))\n",
    "\n",
    "    \n",
    "\n",
    "\n",
    "games_per_year = (games.pivot_table(index='year_of_release', values='name', aggfunc=('count'))\n",
    "                   .rename(columns={'name':'amount'}, index={'year_of_release':'year'})\n",
    "                   .plot(grid=True, title='Amount of released games per year') \n",
    "                   .set_ylabel(\"Amount of games\")\n",
    "                   \n",
    "                 )\n",
    "\n"
   ]
  },
  {
   "cell_type": "markdown",
   "metadata": {},
   "source": [
    "<a id='Step_3.2'></a>"
   ]
  },
  {
   "cell_type": "markdown",
   "metadata": {},
   "source": [
    "<h3>3.2 Sales per platform</h3>"
   ]
  },
  {
   "cell_type": "markdown",
   "metadata": {},
   "source": [
    "<a id='Step_3.2.1'></a>"
   ]
  },
  {
   "cell_type": "markdown",
   "metadata": {},
   "source": [
    "<h3>3.2.1 Greatest total sales</h3>"
   ]
  },
  {
   "cell_type": "code",
   "execution_count": 34,
   "metadata": {},
   "outputs": [
    {
     "name": "stdout",
     "output_type": "stream",
     "text": [
      "Text(0, 0.5, 'Sales')\n"
     ]
    },
    {
     "data": {
      "image/png": "[encoded data removed]",
      "text/plain": [
       "<Figure size 432x288 with 1 Axes>"
      ]
     },
     "metadata": {
      "needs_background": "light"
     },
     "output_type": "display_data"
    }
   ],
   "source": [
    "platform_pivot = games.pivot_table(index='platform', values='total_sales', aggfunc=('sum'))\n",
    "\n",
    "print(platform_pivot.sort_values(by='total_sales',ascending=False).head(5).plot(kind = 'barh',grid=True, title='Most popular platforms').set_ylabel(\"Sales\"))\n"
   ]
  },
  {
   "cell_type": "markdown",
   "metadata": {},
   "source": [
    "<a id='Step_3.2.2'></a>"
   ]
  },
  {
   "cell_type": "markdown",
   "metadata": {},
   "source": [
    "<h3>3.2.2 Distribution based on data for each year</h3>"
   ]
  },
  {
   "cell_type": "code",
   "execution_count": 33,
   "metadata": {},
   "outputs": [
    {
     "data": {
      "text/plain": [
       "<AxesSubplot:title={'center':'Total sales per year for each platform'}, xlabel='year_of_release'>"
      ]
     },
     "execution_count": 33,
     "metadata": {},
     "output_type": "execute_result"
    },
    {
     "data": {
      "image/png": "[encoded data removed]",
      "text/plain": [
       "<Figure size 864x432 with 1 Axes>"
      ]
     },
     "metadata": {
      "needs_background": "light"
     },
     "output_type": "display_data"
    },
    {
     "data": {
      "image/png": "[encoded data removed]",
      "text/plain": [
       "<Figure size 864x432 with 1 Axes>"
      ]
     },
     "metadata": {
      "needs_background": "light"
     },
     "output_type": "display_data"
    }
   ],
   "source": [
    "(games\n",
    ".query('platform==\"PS2\" | platform==\"X360\" ')\n",
    ".pivot_table(index=['platform','year_of_release'], values='total_sales' , aggfunc=('sum'))\n",
    ".unstack(level=0).plot(kind='bar', subplots=False, figsize=(12,6), title='Total sales per year PS2 and X360')\n",
    ")\n",
    "\n",
    "(games\n",
    ".query('platform==\"PS2\" | platform==\"X360\" | platform==\"PS3\" | platform==\"Wii\" | platform==\"DS\" ')\n",
    ".pivot_table(index=['platform','year_of_release'], values='total_sales' , aggfunc=('sum'))\n",
    ".unstack(level=0).plot(kind='bar', subplots=False, figsize=(12,6), title='Total sales per year for each platform')\n",
    ")\n",
    "\n"
   ]
  },
  {
   "cell_type": "markdown",
   "metadata": {},
   "source": [
    "<a id='Step_3.3'></a>"
   ]
  },
  {
   "cell_type": "markdown",
   "metadata": {},
   "source": [
    "<h3>3.3 Determine period for prognosis</h3>"
   ]
  },
  {
   "cell_type": "code",
   "execution_count": 12,
   "metadata": {},
   "outputs": [],
   "source": [
    "#it seems that it take 10 years for each platform in order to rise and then fade away, so i need to take\n",
    "#6-5 years before 2017\n",
    "\n",
    "games_filtered = games.query('year_of_release > 2010 & platform != \"X360\" & platform != \"Wii\" & platform != \"PS3\" & platform != \"PSP\"')\n",
    "\n",
    "\n",
    "\n"
   ]
  },
  {
   "cell_type": "markdown",
   "metadata": {},
   "source": [
    "<a id='Step_3.4'></a>"
   ]
  },
  {
   "cell_type": "markdown",
   "metadata": {},
   "source": [
    "<h3>3.4 Leading platforms</h3>"
   ]
  },
  {
   "cell_type": "code",
   "execution_count": 13,
   "metadata": {},
   "outputs": [
    {
     "name": "stdout",
     "output_type": "stream",
     "text": [
      "          total_sales\n",
      "platform             \n",
      "PS4            314.14\n",
      "3DS            257.81\n",
      "XOne           159.32\n",
      "PC              97.68\n",
      "WiiU            82.19\n",
      "PSV             53.81\n",
      "DS              38.73\n",
      "PS2              0.45\n"
     ]
    },
    {
     "data": {
      "image/png": "[encoded data removed]",
      "text/plain": [
       "<Figure size 432x288 with 1 Axes>"
      ]
     },
     "metadata": {
      "needs_background": "light"
     },
     "output_type": "display_data"
    }
   ],
   "source": [
    "games_filtered_pivot = games_filtered.pivot_table(index='platform', values='total_sales', aggfunc=('sum'))\n",
    "print(games_filtered_pivot.sort_values(by='total_sales', ascending=False))\n",
    "\n",
    "games_filtered_pivot.sort_values(by='total_sales',ascending=False).head(5).plot(grid=True, title='Leading platforms').set_ylabel('Sales')\n",
    "games_filtered_final = games_filtered.query('platform==\"PS4\" | platform == \"3DS\" | platform == \"XOne\" | platform ==\"PC\"')\n"
   ]
  },
  {
   "cell_type": "markdown",
   "metadata": {},
   "source": [
    "<a id='Step_3.4.1'></a>"
   ]
  },
  {
   "cell_type": "markdown",
   "metadata": {},
   "source": [
    "<h3>3.4.1 Leading platforms by year</h3>"
   ]
  },
  {
   "cell_type": "code",
   "execution_count": 14,
   "metadata": {},
   "outputs": [
    {
     "data": {
      "text/plain": [
       "<AxesSubplot:title={'center':'Total sales per year for each platform'}, xlabel='year_of_release'>"
      ]
     },
     "execution_count": 14,
     "metadata": {},
     "output_type": "execute_result"
    },
    {
     "data": {
      "image/png": "[encoded data removed]",
      "text/plain": [
       "<Figure size 864x432 with 1 Axes>"
      ]
     },
     "metadata": {
      "needs_background": "light"
     },
     "output_type": "display_data"
    }
   ],
   "source": [
    "(games_filtered\n",
    ".query('platform==\"PS4\" | platform==\"3DS\" | platform==\"XOne\" | platform==\"PC\" | platform==\"WiiU\" ')\n",
    ".pivot_table(index=['platform','year_of_release'], values='total_sales' , aggfunc=('sum'))\n",
    ".unstack(level=0).plot(kind='bar', subplots=False, figsize=(12,6), title='Total sales per year for each platform')\n",
    ")"
   ]
  },
  {
   "cell_type": "markdown",
   "metadata": {},
   "source": [
    "<a id='Step_3.4.2'></a>"
   ]
  },
  {
   "cell_type": "markdown",
   "metadata": {},
   "source": [
    "<h3>3.4.2 Boxplot for leadind platforms</h3>"
   ]
  },
  {
   "cell_type": "code",
   "execution_count": 15,
   "metadata": {},
   "outputs": [
    {
     "data": {
      "image/png": "[encoded data removed]",
      "text/plain": [
       "<Figure size 432x288 with 1 Axes>"
      ]
     },
     "metadata": {
      "needs_background": "light"
     },
     "output_type": "display_data"
    }
   ],
   "source": [
    "games_boxplot = (games\n",
    " .query('platform==\"PS4\" | platform == \"3DS\" | platform == \"XOne\" | platform ==\"PC\"')\n",
    " .pivot_table(index='year_of_release', columns='platform', values='total_sales', aggfunc=('sum'))\n",
    " .boxplot()\n",
    ")\n",
    "\n"
   ]
  },
  {
   "cell_type": "markdown",
   "metadata": {},
   "source": [
    "<a id='Step_3.5'></a>"
   ]
  },
  {
   "cell_type": "markdown",
   "metadata": {},
   "source": [
    "<h3>3.5 Effect of professional reviews on sales</h3>"
   ]
  },
  {
   "cell_type": "code",
   "execution_count": 16,
   "metadata": {},
   "outputs": [
    {
     "data": {
      "text/plain": [
       "<AxesSubplot:xlabel='critic_score', ylabel='total_sales'>"
      ]
     },
     "execution_count": 16,
     "metadata": {},
     "output_type": "execute_result"
    },
    {
     "data": {
      "image/png": "[encoded data removed]",
      "text/plain": [
       "<Figure size 432x288 with 1 Axes>"
      ]
     },
     "metadata": {
      "needs_background": "light"
     },
     "output_type": "display_data"
    }
   ],
   "source": [
    "#for PS4 critic_score\n",
    "\n",
    "(games_filtered\n",
    ".query('platform == \"PS4\" & critic_score !=0')\n",
    ".plot(x='critic_score', y='total_sales', kind='scatter', alpha=0.5, ylim=(0,9))\n",
    ")\n"
   ]
  },
  {
   "cell_type": "code",
   "execution_count": 17,
   "metadata": {},
   "outputs": [
    {
     "data": {
      "text/plain": [
       "<AxesSubplot:xlabel='user_score', ylabel='total_sales'>"
      ]
     },
     "execution_count": 17,
     "metadata": {},
     "output_type": "execute_result"
    },
    {
     "data": {
      "image/png": "[encoded data removed]",
      "text/plain": [
       "<Figure size 432x288 with 1 Axes>"
      ]
     },
     "metadata": {
      "needs_background": "light"
     },
     "output_type": "display_data"
    }
   ],
   "source": [
    "#for PS4 user_score\n",
    "\n",
    "(games_filtered\n",
    ".query('platform == \"PS4\" & user_score !=0 & user_score != \"tbd\"')\n",
    ".astype({'user_score': 'float'})\n",
    ".plot(x='user_score', y='total_sales', kind='scatter', alpha=0.5, ylim=(0,9))\n",
    ")"
   ]
  },
  {
   "cell_type": "markdown",
   "metadata": {},
   "source": [
    "<a id='Step_3.6'></a>"
   ]
  },
  {
   "cell_type": "markdown",
   "metadata": {},
   "source": [
    "<h3>3.6 Sales of the same games on other platforms </h3>"
   ]
  },
  {
   "cell_type": "code",
   "execution_count": 18,
   "metadata": {},
   "outputs": [
    {
     "data": {
      "text/plain": [
       "<AxesSubplot:xlabel='critic_score', ylabel='total_sales'>"
      ]
     },
     "execution_count": 18,
     "metadata": {},
     "output_type": "execute_result"
    },
    {
     "data": {
      "image/png": "[encoded data removed]",
      "text/plain": [
       "<Figure size 432x288 with 1 Axes>"
      ]
     },
     "metadata": {
      "needs_background": "light"
     },
     "output_type": "display_data"
    }
   ],
   "source": [
    "# xone critic_score\n",
    "\n",
    "games_filtered_ps4 = games_filtered[games_filtered['platform'] == 'PS4']['name']\n",
    "\n",
    "\n",
    "(games_filtered\n",
    ".query('platform == \"XOne\" & critic_score !=0')\n",
    ".query('name in @games_filtered_ps4')\n",
    ".plot(x='critic_score', y='total_sales', kind='scatter', alpha=0.5, ylim=(0,9))\n",
    ")\n"
   ]
  },
  {
   "cell_type": "code",
   "execution_count": 21,
   "metadata": {},
   "outputs": [
    {
     "data": {
      "text/plain": [
       "<matplotlib.axes._subplots.AxesSubplot at 0x7fc34e0b2550>"
      ]
     },
     "execution_count": 21,
     "metadata": {},
     "output_type": "execute_result"
    },
    {
     "data": {
      "image/png": "[encoded data removed]",
      "text/plain": [
       "<Figure size 432x288 with 1 Axes>"
      ]
     },
     "metadata": {
      "needs_background": "light"
     },
     "output_type": "display_data"
    }
   ],
   "source": [
    "# xone user_score\n",
    "\n",
    "(games_filtered\n",
    ".query('platform == \"XOne\" & user_score !=0 & user_score != \"tbd\"')\n",
    ".query('name in @games_filtered_ps4')\n",
    ".astype({'user_score': 'float'})\n",
    ".plot(x='user_score', y='total_sales', kind='scatter', alpha=0.5, ylim=(0,9))\n",
    ")\n"
   ]
  },
  {
   "cell_type": "markdown",
   "metadata": {},
   "source": [
    "<a id='Step_3.7'></a>"
   ]
  },
  {
   "cell_type": "markdown",
   "metadata": {},
   "source": [
    "<h3>3.7 Distribution of games by genre"
   ]
  },
  {
   "cell_type": "code",
   "execution_count": 19,
   "metadata": {},
   "outputs": [
    {
     "name": "stdout",
     "output_type": "stream",
     "text": [
      "genre\n",
      "Action          210.79\n",
      "Shooter         173.03\n",
      "Role-Playing    146.42\n",
      "Sports           94.11\n",
      "Platform         41.47\n",
      "Simulation       40.98\n",
      "Racing           38.96\n",
      "Misc             27.38\n",
      "Fighting         21.78\n",
      "Adventure        15.63\n",
      "Strategy         12.27\n",
      "Puzzle            6.13\n",
      "Name: total_sales, dtype: float64\n"
     ]
    }
   ],
   "source": [
    "print(games_filtered_final.groupby('genre')['total_sales'].sum().sort_values(ascending=False))"
   ]
  },
  {
   "cell_type": "markdown",
   "metadata": {},
   "source": [
    "<a id='Step_3.8'></a>"
   ]
  },
  {
   "cell_type": "markdown",
   "metadata": {},
   "source": [
    "<h3> 3.8 Conclusion"
   ]
  },
  {
   "cell_type": "markdown",
   "metadata": {},
   "source": [
    "1. Graph Amount of games released per year shows us following:\n",
    "\n",
    "From 1985 and until 1990 number was really low around 200, and lowest.\n",
    "From 1990 until 2010 it was increased and highest number of dames was between 2005 and 2010.\n",
    "Between 2012 and current year, value stays the same, around 600 games per year.\n",
    "\n",
    "2. Graph Most popular platforms shows us following:\n",
    "\n",
    "On first place from platforms (based on sales) we have PS2 and on second place X360.\n",
    "And I decided to take these 5 platforms and check how situation was changed during mentioned period of time.\n",
    "\n",
    "3. Graph Total sales per year for each platform:\n",
    "\n",
    "It turned out that approx. it takes about 10 year for platform to rise and fade away.\n",
    "\n",
    "And Based on this information, I will slice data from 2011 , because I think it needs to be on top during 2017. Also I took following platforms (they were just released): PS4, 3DS, XOne, PC.\n",
    "\n",
    "4. Graph Leading platforms:\n",
    "\n",
    "Out of 4 platforms that I choose, leader is PS4 and on second and third place XOne and 3DS.\n",
    "\n",
    "5. Graph Leading platforms by year:\n",
    "\n",
    "I took 5 platforms (leaders from previous analyze) and investigated their sales per year.\n",
    "\n",
    "Since 2014 and until nowadays PS4 takes first place, 3DS is about to fade away. On second place XOne.\n",
    "\n",
    "    \n",
    "6. Effect of reviews on sales\n",
    "\n",
    "I see how professional reviews directly affect sales of games; however I cannot say that about user score. (I used PS4 as an example)\n",
    "In addition, I did same analyses for different platform - XOne, output more or less looks similar.\n",
    "\n",
    "In addition I looked at distribution of games based on genre, leaders are Action, Shooter and  Role-Playing.\n"
   ]
  },
  {
   "cell_type": "markdown",
   "metadata": {},
   "source": [
    "<a id='Step_4'></a>"
   ]
  },
  {
   "cell_type": "markdown",
   "metadata": {},
   "source": [
    "<h3> Step 4. User profile for each region"
   ]
  },
  {
   "cell_type": "markdown",
   "metadata": {},
   "source": [
    "<a id='Step_4.1'></a>"
   ]
  },
  {
   "cell_type": "markdown",
   "metadata": {},
   "source": [
    "<h3> 4.1 Top five platforms"
   ]
  },
  {
   "cell_type": "code",
   "execution_count": 20,
   "metadata": {},
   "outputs": [
    {
     "data": {
      "text/plain": [
       "Text(0, 0.5, 'Sales')"
      ]
     },
     "execution_count": 20,
     "metadata": {},
     "output_type": "execute_result"
    },
    {
     "data": {
      "image/png": "[encoded data removed]",
      "text/plain": [
       "<Figure size 432x288 with 1 Axes>"
      ]
     },
     "metadata": {
      "needs_background": "light"
     },
     "output_type": "display_data"
    }
   ],
   "source": [
    "#  North America\n",
    "\n",
    "(games_filtered_final\n",
    " .groupby('platform')['na_sales'].sum()\n",
    " .sort_values(ascending=False)\n",
    " .plot(kind='bar', grid = True, title='Top 5 platforms in North America' )\n",
    " .set_ylabel('Sales')\n",
    ")\n",
    "\n",
    "\n"
   ]
  },
  {
   "cell_type": "code",
   "execution_count": 24,
   "metadata": {},
   "outputs": [
    {
     "data": {
      "text/plain": [
       "Text(0, 0.5, 'Sales')"
      ]
     },
     "execution_count": 24,
     "metadata": {},
     "output_type": "execute_result"
    },
    {
     "data": {
      "image/png": "[encoded data removed]",
      "text/plain": [
       "<Figure size 432x288 with 1 Axes>"
      ]
     },
     "metadata": {
      "needs_background": "light"
     },
     "output_type": "display_data"
    }
   ],
   "source": [
    "# Europe\n",
    "\n",
    "(games_filtered_final\n",
    " .groupby('platform')['eu_sales'].sum()\n",
    " .sort_values(ascending=False)\n",
    " .plot(kind='bar', title='Top 5 platforms in Europe', grid = True )\n",
    "  .set_ylabel('Sales')\n",
    ")\n",
    "\n"
   ]
  },
  {
   "cell_type": "code",
   "execution_count": 25,
   "metadata": {},
   "outputs": [
    {
     "data": {
      "text/plain": [
       "Text(0, 0.5, 'Sales')"
      ]
     },
     "execution_count": 25,
     "metadata": {},
     "output_type": "execute_result"
    },
    {
     "data": {
      "image/png": "[encoded data removed]",
      "text/plain": [
       "<Figure size 432x288 with 1 Axes>"
      ]
     },
     "metadata": {
      "needs_background": "light"
     },
     "output_type": "display_data"
    }
   ],
   "source": [
    "# Japan\n",
    "\n",
    "(games_filtered_final\n",
    " .groupby('platform')['jp_sales'].sum()\n",
    " .sort_values(ascending=False)\n",
    " .plot(kind='bar', title='Top 5 platforms in Japan', grid = True )\n",
    "  .set_ylabel('Sales')\n",
    ")"
   ]
  },
  {
   "cell_type": "markdown",
   "metadata": {},
   "source": [
    "<a id='Step_4.2'></a>"
   ]
  },
  {
   "cell_type": "markdown",
   "metadata": {},
   "source": [
    "<h3> 4.2 Top five genres"
   ]
  },
  {
   "cell_type": "code",
   "execution_count": 50,
   "metadata": {},
   "outputs": [
    {
     "name": "stdout",
     "output_type": "stream",
     "text": [
      "Top five genres in North America\n",
      "\n",
      "\n",
      "Top five genres in Europe\n",
      "\n",
      "\n",
      "Top five genres in Japan\n",
      "\n",
      "AxesSubplot(0.125,0.125;0.775x0.755)\n"
     ]
    },
    {
     "data": {
      "text/plain": [
       "(array([0, 1, 2, 3, 4]),\n",
       " [Text(0, 0, 'Role-Playing'),\n",
       "  Text(1, 0, 'Action'),\n",
       "  Text(2, 0, 'Simulation'),\n",
       "  Text(3, 0, 'Platform'),\n",
       "  Text(4, 0, 'Misc')])"
      ]
     },
     "execution_count": 50,
     "metadata": {},
     "output_type": "execute_result"
    },
    {
     "data": {
      "image/png": "[encoded data removed]",
      "text/plain": [
       "<Figure size 432x288 with 1 Axes>"
      ]
     },
     "metadata": {
      "needs_background": "light"
     },
     "output_type": "display_data"
    }
   ],
   "source": [
    "print('Top five genres in North America')\n",
    "print('')\n",
    "#print(games_filtered_final.groupby('genre')['na_sales'].sum().sort_values(ascending=False).head(5).plot(kind='bar', title='North America', grid = True))\n",
    "print('')\n",
    "\n",
    "print('Top five genres in Europe')\n",
    "print('')\n",
    "#print(games_filtered_final.groupby('genre')['eu_sales'].sum().sort_values(ascending=False).head(5).plot(kind='bar', title='Europe', grid = True))\n",
    "print('')\n",
    "print('Top five genres in Japan')\n",
    "print('')\n",
    "print(games_filtered_final.groupby('genre')['jp_sales'].sum().sort_values(ascending=False).head(5).plot(kind='bar', title='Japan', grid = True))\n",
    "plt.xticks(rotation=40)"
   ]
  },
  {
   "cell_type": "markdown",
   "metadata": {},
   "source": [
    "<h3>4.4 Affect of ESRB ratings in each region"
   ]
  },
  {
   "cell_type": "code",
   "execution_count": 27,
   "metadata": {},
   "outputs": [
    {
     "name": "stdout",
     "output_type": "stream",
     "text": [
      "        na_sales  eu_sales  jp_sales\n",
      "rating                              \n",
      "E          63.82     68.88     22.68\n",
      "E10+       31.71     23.35      5.23\n",
      "M         106.46    109.03      7.04\n",
      "RP          0.00      0.03      0.00\n",
      "T          42.27     40.44      9.99\n"
     ]
    }
   ],
   "source": [
    "games_rating = games_filtered_final.query('rating != 0')\n",
    "print(games_rating.groupby('rating')['na_sales', 'eu_sales', 'jp_sales'].sum())"
   ]
  },
  {
   "cell_type": "markdown",
   "metadata": {},
   "source": [
    "<a id='Step_4.5'></a>"
   ]
  },
  {
   "cell_type": "markdown",
   "metadata": {},
   "source": [
    "<h3> 4.5 Conclusion"
   ]
  },
  {
   "cell_type": "markdown",
   "metadata": {},
   "source": [
    "During step 4 I investigated data for each region:\n",
    "\n",
    "1. Graph Top five platforms in North America:\n",
    "\n",
    "PS4, XOne and 3DS almost have equal sales, however PS4 is on first place among them\n",
    "Last place goes to PC\n",
    "\n",
    "2. Graph Top five platforms in Europe:\n",
    "\n",
    "In Europe leading PS4 which has twice more sales compare to second place – 3DS. \n",
    "3DS, PC and XOne are almost equal.\n",
    "\n",
    "3. Graph Top five platforms in Japan:\n",
    "\n",
    "Surprisingly only single platform 3DS takes over almost all market, on second place PS4 \n",
    "\n",
    "4. Top five genres:\n",
    "\n",
    "In North America and Europe leading Action and Shooter, in Japan output is absolutely different and Role-Playing on first place.\n",
    "\n",
    "5. Investigated how ESRB rating affects our sales. Only Japan is affected."
   ]
  },
  {
   "cell_type": "markdown",
   "metadata": {},
   "source": [
    "<a id='Step_5'></a>"
   ]
  },
  {
   "cell_type": "markdown",
   "metadata": {},
   "source": [
    "<h3>Step 5. Test hypotheses"
   ]
  },
  {
   "cell_type": "markdown",
   "metadata": {},
   "source": [
    "<a id='Step_5.1'></a>"
   ]
  },
  {
   "cell_type": "markdown",
   "metadata": {},
   "source": [
    "<h3> 5.1 User's ratings of the Xbox One and PC"
   ]
  },
  {
   "cell_type": "code",
   "execution_count": 28,
   "metadata": {},
   "outputs": [
    {
     "name": "stdout",
     "output_type": "stream",
     "text": [
      "0.6130712247638477\n",
      "We can't reject the null hypothesis\n"
     ]
    }
   ],
   "source": [
    "#H0 - average user ratings of the Xbox One and PC platforms are the equal.\n",
    "#Alternative or H1 is that average user ratings of the Xbox One and PC are not equal\n",
    "\n",
    "rating_xone = games_filtered_final.query('user_score != 0 & platform ==\"XOne\" & user_score != \"tbd\"')['user_score'].astype('float')\n",
    "rating_pc = games_filtered_final.query('user_score != 0 & platform ==\"PC\" & user_score != \"tbd\"')['user_score'].astype('float')\n",
    "\n",
    "\n",
    "alpha = .05\n",
    "\n",
    "\n",
    "results = st.ttest_ind(\n",
    "        rating_xone, \n",
    "        rating_pc,\n",
    "        equal_var = False)\n",
    "print(results.pvalue)\n",
    "if (results.pvalue < alpha):\n",
    "    print(\"We reject the null hypothesis\")\n",
    "else:\n",
    "    print(\"We can't reject the null hypothesis\")"
   ]
  },
  {
   "cell_type": "markdown",
   "metadata": {},
   "source": [
    "<a id='Step_5.2'></a>"
   ]
  },
  {
   "cell_type": "markdown",
   "metadata": {},
   "source": [
    "<h3>5.2 User's ratings for the Action and Sport genres "
   ]
  },
  {
   "cell_type": "code",
   "execution_count": 26,
   "metadata": {},
   "outputs": [
    {
     "name": "stdout",
     "output_type": "stream",
     "text": [
      "9.426596551488774e-10\n",
      "We reject the null hypothesis\n"
     ]
    }
   ],
   "source": [
    "rating_action = games_filtered_final.query('user_score != 0 & genre ==\"Action\" & user_score != \"tbd\"')['user_score'].astype('float')\n",
    "rating_sport = games_filtered_final.query('user_score != 0 & genre ==\"Sports\" & user_score != \"tbd\"')['user_score'].astype('float')\n",
    "\n",
    "\n",
    "\n",
    "alpha = .05\n",
    "\n",
    "results = st.ttest_ind(\n",
    "        rating_action, \n",
    "        rating_sport,\n",
    "        equal_var = False)\n",
    "\n",
    "print(results.pvalue)\n",
    "if (results.pvalue < alpha):\n",
    "    print(\"We reject the null hypothesis\")\n",
    "else:\n",
    "    print(\"We can't reject the null hypothesis\")"
   ]
  },
  {
   "cell_type": "markdown",
   "metadata": {},
   "source": [
    "<a id='Step_5.3'></a>"
   ]
  },
  {
   "cell_type": "markdown",
   "metadata": {},
   "source": [
    "<h3> 5.3 Conclusion"
   ]
  },
  {
   "cell_type": "markdown",
   "metadata": {},
   "source": [
    "For both test I used probability threshold - 5%\n",
    "\n",
    "- First hypotheses:\n",
    "\n",
    "H0 - average user ratings of the Xbox One and PC platforms are the equal.\n",
    "Alternative or H1 is that average user ratings of the Xbox One and PC are not equal\n",
    "\n",
    "Result:\n",
    "\n",
    "We cannot reject H0, since average of user rating is almost the same for both PC and XOne.\n",
    "\n",
    "\n",
    "- Second hypotheses \n",
    "\n",
    "H0 - average user rating for genres Action and Sports are equal\n",
    "Alternative or H1 - average user rating for genres Action and Sports are not equal\n",
    "\n",
    "Result:\n",
    "\n",
    "We rejected H0, since user rating is differnet for Sports and Action."
   ]
  },
  {
   "cell_type": "markdown",
   "metadata": {},
   "source": [
    "<a id='Step_6'></a>"
   ]
  },
  {
   "cell_type": "markdown",
   "metadata": {},
   "source": [
    "<h3>Step 6. General conclusion"
   ]
  },
  {
   "cell_type": "markdown",
   "metadata": {},
   "source": [
    "Hello Dear Reviewer.\n",
    "\n",
    "During this project, I have received information about games, their platforms and sales information. My main goal is to build an action plan for upcoming 2017.\n",
    "\n",
    "First, we do see that platforms are usually gets their attention after 5-4 years they released, that is the reason I focused on PS4 and Xone (also PC, it has less sales, but more stable on market).\n",
    "\n",
    "Second, according to my investigation, Action and Shooter are more popular and therefore give more profit.\n",
    "\n",
    "Based on this information we can conclude that best advice is to count on Action and Shooter released for PS4, Xone or PC (of course Role-Playing if your store located in Japan :))\n",
    "\n",
    "Thank you.\n",
    "Andrey.\n"
   ]
  },
  {
   "cell_type": "code",
   "execution_count": null,
   "metadata": {},
   "outputs": [],
   "source": []
  }
 ],
 "metadata": {
  "kernelspec": {
   "display_name": "Python 3",
   "language": "python",
   "name": "python3"
  },
  "language_info": {
   "codemirror_mode": {
    "name": "ipython",
    "version": 3
   },
   "file_extension": ".py",
   "mimetype": "text/x-python",
   "name": "python",
   "nbconvert_exporter": "python",
   "pygments_lexer": "ipython3",
   "version": "3.8.5"
  },
  "toc": {
   "base_numbering": 1,
   "nav_menu": {},
   "number_sections": true,
   "sideBar": true,
   "skip_h1_title": true,
   "title_cell": "Table of Contents",
   "title_sidebar": "Contents",
   "toc_cell": false,
   "toc_position": {},
   "toc_section_display": true,
   "toc_window_display": false
  }
 },
 "nbformat": 4,
 "nbformat_minor": 2
}
